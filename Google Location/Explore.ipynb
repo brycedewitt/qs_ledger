{
 "cells": [
  {
   "cell_type": "markdown",
   "metadata": {},
   "source": [
    "## Google Location"
   ]
  },
  {
   "cell_type": "markdown",
   "metadata": {},
   "source": [
    "This code will parse your Google Location export data, create a CSV, and do some simple data checks and data analysis. \n",
    "\n",
    "Enjoy! "
   ]
  },
  {
   "cell_type": "markdown",
   "metadata": {},
   "source": [
    "#### First, we need to convert Location History.json to CSV"
   ]
  },
  {
   "cell_type": "code",
   "execution_count": 1,
   "metadata": {},
   "outputs": [
    {
     "name": "stdout",
     "output_type": "stream",
     "text": [
      "Reading location history JSON file...\n",
      "Loading JSON internally...\n",
      "Creating your CSV file...\n",
      "10% completed\n",
      "20% completed\n",
      "30% completed\n",
      "40% completed\n",
      "50% completed\n",
      "60% completed\n",
      "70% completed\n",
      "80% completed\n",
      "90% completed\n",
      "Done!\n"
     ]
    },
    {
     "data": {
      "text/plain": [
       "<module 'generate' from '/Users/brycedewitt/Documents/qs_ledger/Google Location/generate.py'>"
      ]
     },
     "execution_count": 1,
     "metadata": {},
     "output_type": "execute_result"
    }
   ],
   "source": [
    "import generate\n",
    "generate"
   ]
  },
  {
   "cell_type": "markdown",
   "metadata": {},
   "source": [
    "#### Additional packages\n",
    "If you run into import issues with the packages on the rows below, uncomment these lines and try to import them to the current kernel. "
   ]
  },
  {
   "cell_type": "code",
   "execution_count": null,
   "metadata": {},
   "outputs": [],
   "source": [
    "# import sys\n",
    "# !{sys.executable} -m pip install pandas\n",
    "# !{sys.executable} -m pip install numpy\n",
    "# !{sys.executable} -m pip install descartes\n",
    "# !{sys.executable} -m pip install geopandas\n",
    "# !{sys.executable} -m pip install shapely\n",
    "# !{sys.executable} -m pip install matplotlib\n"
   ]
  },
  {
   "cell_type": "code",
   "execution_count": 13,
   "metadata": {},
   "outputs": [
    {
     "name": "stdout",
     "output_type": "stream",
     "text": [
      "Requirement already satisfied: descartes in /Users/brycedewitt/anaconda3/lib/python3.7/site-packages (1.1.0)\n",
      "Requirement already satisfied: matplotlib in /Users/brycedewitt/anaconda3/lib/python3.7/site-packages (from descartes) (3.1.0)\n",
      "Requirement already satisfied: cycler>=0.10 in /Users/brycedewitt/anaconda3/lib/python3.7/site-packages (from matplotlib->descartes) (0.10.0)\n",
      "Requirement already satisfied: kiwisolver>=1.0.1 in /Users/brycedewitt/anaconda3/lib/python3.7/site-packages (from matplotlib->descartes) (1.1.0)\n",
      "Requirement already satisfied: pyparsing!=2.0.4,!=2.1.2,!=2.1.6,>=2.0.1 in /Users/brycedewitt/anaconda3/lib/python3.7/site-packages (from matplotlib->descartes) (2.4.0)\n",
      "Requirement already satisfied: python-dateutil>=2.1 in /Users/brycedewitt/anaconda3/lib/python3.7/site-packages (from matplotlib->descartes) (2.8.0)\n",
      "Requirement already satisfied: numpy>=1.11 in /Users/brycedewitt/anaconda3/lib/python3.7/site-packages (from matplotlib->descartes) (1.16.4)\n",
      "Requirement already satisfied: six in /Users/brycedewitt/anaconda3/lib/python3.7/site-packages (from cycler>=0.10->matplotlib->descartes) (1.12.0)\n",
      "Requirement already satisfied: setuptools in /Users/brycedewitt/anaconda3/lib/python3.7/site-packages (from kiwisolver>=1.0.1->matplotlib->descartes) (41.0.1)\n",
      "Collecting geopandas\n",
      "  Using cached https://files.pythonhosted.org/packages/5b/0c/e6c99e561b03482220f00443f610ccf4dce9b50f4b1093d735f93c6fc8c6/geopandas-0.6.2-py2.py3-none-any.whl\n",
      "Requirement already satisfied: pandas>=0.23.0 in /Users/brycedewitt/anaconda3/lib/python3.7/site-packages (from geopandas) (0.24.2)\n",
      "Collecting pyproj (from geopandas)\n",
      "\u001b[?25l  Downloading https://files.pythonhosted.org/packages/81/40/5e9c75b1b08fc5f91fb9f68afacd15144296a6cd58a8b3b0a8a23a56f181/pyproj-2.4.2.post1-cp37-cp37m-macosx_10_6_intel.whl (13.4MB)\n",
      "\u001b[K     |████████████████████████████████| 13.4MB 170kB/s eta 0:00:01    |████████▋                       | 3.6MB 75kB/s eta 0:02:11\n",
      "\u001b[?25hCollecting shapely (from geopandas)\n",
      "\u001b[?25l  Downloading https://files.pythonhosted.org/packages/8d/29/1cafd5ec68237611cfabdddc0ca966f3030d7c930db1a61a90cf008456c7/Shapely-1.7.0-cp37-cp37m-macosx_10_9_x86_64.whl (1.6MB)\n",
      "\u001b[K     |████████████████████████████████| 1.6MB 102kB/s eta 0:00:01\n",
      "\u001b[?25hCollecting fiona (from geopandas)\n",
      "\u001b[?25l  Downloading https://files.pythonhosted.org/packages/b2/9a/3cb5728fca91a642fdb1107dcb30c97ecffe25c841a7a4cfece680fd802a/Fiona-1.8.13-cp37-cp37m-macosx_10_6_intel.whl (17.9MB)\n",
      "\u001b[K     |████████████████████████████████| 17.9MB 47kB/s eta 0:00:019     |███████████████████████         | 12.9MB 86kB/s eta 0:00:58\n",
      "\u001b[?25hRequirement already satisfied: numpy>=1.12.0 in /Users/brycedewitt/anaconda3/lib/python3.7/site-packages (from pandas>=0.23.0->geopandas) (1.16.4)\n",
      "Requirement already satisfied: pytz>=2011k in /Users/brycedewitt/anaconda3/lib/python3.7/site-packages (from pandas>=0.23.0->geopandas) (2019.1)\n",
      "Requirement already satisfied: python-dateutil>=2.5.0 in /Users/brycedewitt/anaconda3/lib/python3.7/site-packages (from pandas>=0.23.0->geopandas) (2.8.0)\n",
      "Requirement already satisfied: six>=1.7 in /Users/brycedewitt/anaconda3/lib/python3.7/site-packages (from fiona->geopandas) (1.12.0)\n",
      "Collecting click-plugins>=1.0 (from fiona->geopandas)\n",
      "  Using cached https://files.pythonhosted.org/packages/e9/da/824b92d9942f4e472702488857914bdd50f73021efea15b4cad9aca8ecef/click_plugins-1.1.1-py2.py3-none-any.whl\n",
      "Collecting munch (from fiona->geopandas)\n",
      "  Using cached https://files.pythonhosted.org/packages/cc/ab/85d8da5c9a45e072301beb37ad7f833cd344e04c817d97e0cc75681d248f/munch-2.5.0-py2.py3-none-any.whl\n",
      "Requirement already satisfied: attrs>=17 in /Users/brycedewitt/anaconda3/lib/python3.7/site-packages (from fiona->geopandas) (19.1.0)\n",
      "Requirement already satisfied: click<8,>=4.0 in /Users/brycedewitt/anaconda3/lib/python3.7/site-packages (from fiona->geopandas) (7.0)\n",
      "Collecting cligj>=0.5 (from fiona->geopandas)\n",
      "  Downloading https://files.pythonhosted.org/packages/e4/be/30a58b4b0733850280d01f8bd132591b4668ed5c7046761098d665ac2174/cligj-0.5.0-py3-none-any.whl\n",
      "Installing collected packages: pyproj, shapely, click-plugins, munch, cligj, fiona, geopandas\n",
      "Successfully installed click-plugins-1.1.1 cligj-0.5.0 fiona-1.8.13 geopandas-0.6.2 munch-2.5.0 pyproj-2.4.2.post1 shapely-1.7.0\n",
      "Requirement already satisfied: shapely in /Users/brycedewitt/anaconda3/lib/python3.7/site-packages (1.7.0)\n"
     ]
    }
   ],
   "source": [
    "from datetime import date, datetime, timedelta as td\n",
    "import pytz\n",
    "import numpy as np\n",
    "import pandas as pd\n",
    "import glob\n",
    "import csv\n",
    "import matplotlib.pyplot as plt\n",
    "import sys\n",
    "!{sys.executable} -m pip install descartes\n",
    "!{sys.executable} -m pip install geopandas\n",
    "!{sys.executable} -m pip install shapely\n",
    "import descartes\n",
    "import geopandas as gpd\n",
    "from shapely.geometry import Point, Polygon\n",
    "\n",
    "%matplotlib inline"
   ]
  },
  {
   "cell_type": "markdown",
   "metadata": {},
   "source": [
    "#### Data exploration"
   ]
  },
  {
   "cell_type": "markdown",
   "metadata": {},
   "source": [
    "First, lets take a look through the better-formatted CSV to see what things look like.  Load your CSV:"
   ]
  },
  {
   "cell_type": "code",
   "execution_count": 2,
   "metadata": {},
   "outputs": [],
   "source": [
    "data = pd.read_csv(\"data/out.csv\", quoting=3, delimiter=',', skiprows=1, names=[\"timestamp\", \"longitudeE7\", \"latitudeE7\", \"accuracy\", \"altitude\", \"verticalAccuracy\", \"velocity\"], dtype={'longitudeE7': np.float64, 'latitudeE7': np.float64 , 'accuracy':'Int64'})"
   ]
  },
  {
   "cell_type": "markdown",
   "metadata": {},
   "source": [
    " Lets take a look first at just how many rows of data points we have:"
   ]
  },
  {
   "cell_type": "code",
   "execution_count": 3,
   "metadata": {},
   "outputs": [
    {
     "data": {
      "text/plain": [
       "5312636"
      ]
     },
     "execution_count": 3,
     "metadata": {},
     "output_type": "execute_result"
    }
   ],
   "source": [
    "data.size"
   ]
  },
  {
   "cell_type": "markdown",
   "metadata": {},
   "source": [
    "Next, we'll see what the first recorded values in the document are:"
   ]
  },
  {
   "cell_type": "code",
   "execution_count": 4,
   "metadata": {},
   "outputs": [
    {
     "data": {
      "text/html": [
       "<div>\n",
       "<style scoped>\n",
       "    .dataframe tbody tr th:only-of-type {\n",
       "        vertical-align: middle;\n",
       "    }\n",
       "\n",
       "    .dataframe tbody tr th {\n",
       "        vertical-align: top;\n",
       "    }\n",
       "\n",
       "    .dataframe thead th {\n",
       "        text-align: right;\n",
       "    }\n",
       "</style>\n",
       "<table border=\"1\" class=\"dataframe\">\n",
       "  <thead>\n",
       "    <tr style=\"text-align: right;\">\n",
       "      <th></th>\n",
       "      <th>timestamp</th>\n",
       "      <th>longitudeE7</th>\n",
       "      <th>latitudeE7</th>\n",
       "      <th>accuracy</th>\n",
       "      <th>altitude</th>\n",
       "      <th>verticalAccuracy</th>\n",
       "      <th>velocity</th>\n",
       "    </tr>\n",
       "  </thead>\n",
       "  <tbody>\n",
       "    <tr>\n",
       "      <th>0</th>\n",
       "      <td>2011-11-24  17:55:30.239000</td>\n",
       "      <td>-120.843097</td>\n",
       "      <td>35.364554</td>\n",
       "      <td>2795</td>\n",
       "      <td>-1</td>\n",
       "      <td>-1</td>\n",
       "      <td>-1</td>\n",
       "    </tr>\n",
       "    <tr>\n",
       "      <th>1</th>\n",
       "      <td>2011-11-24  18:56:37.265000</td>\n",
       "      <td>-120.843097</td>\n",
       "      <td>35.364554</td>\n",
       "      <td>2795</td>\n",
       "      <td>-1</td>\n",
       "      <td>-1</td>\n",
       "      <td>-1</td>\n",
       "    </tr>\n",
       "    <tr>\n",
       "      <th>2</th>\n",
       "      <td>2011-11-24  18:56:37.699000</td>\n",
       "      <td>-120.843097</td>\n",
       "      <td>35.364554</td>\n",
       "      <td>2795</td>\n",
       "      <td>-1</td>\n",
       "      <td>-1</td>\n",
       "      <td>-1</td>\n",
       "    </tr>\n",
       "    <tr>\n",
       "      <th>3</th>\n",
       "      <td>2011-11-24  18:56:39.487000</td>\n",
       "      <td>-120.833702</td>\n",
       "      <td>35.341048</td>\n",
       "      <td>2704</td>\n",
       "      <td>-1</td>\n",
       "      <td>-1</td>\n",
       "      <td>-1</td>\n",
       "    </tr>\n",
       "    <tr>\n",
       "      <th>4</th>\n",
       "      <td>2011-11-24  18:57:40.581000</td>\n",
       "      <td>-120.739505</td>\n",
       "      <td>35.329383</td>\n",
       "      <td>2429</td>\n",
       "      <td>-1</td>\n",
       "      <td>-1</td>\n",
       "      <td>-1</td>\n",
       "    </tr>\n",
       "  </tbody>\n",
       "</table>\n",
       "</div>"
      ],
      "text/plain": [
       "                      timestamp  longitudeE7  latitudeE7  accuracy  altitude  \\\n",
       "0  2011-11-24  17:55:30.239000   -120.843097   35.364554      2795        -1   \n",
       "1  2011-11-24  18:56:37.265000   -120.843097   35.364554      2795        -1   \n",
       "2  2011-11-24  18:56:37.699000   -120.843097   35.364554      2795        -1   \n",
       "3  2011-11-24  18:56:39.487000   -120.833702   35.341048      2704        -1   \n",
       "4  2011-11-24  18:57:40.581000   -120.739505   35.329383      2429        -1   \n",
       "\n",
       "   verticalAccuracy  velocity  \n",
       "0                -1        -1  \n",
       "1                -1        -1  \n",
       "2                -1        -1  \n",
       "3                -1        -1  \n",
       "4                -1        -1  "
      ]
     },
     "execution_count": 4,
     "metadata": {},
     "output_type": "execute_result"
    }
   ],
   "source": [
    "data.head()"
   ]
  },
  {
   "cell_type": "markdown",
   "metadata": {},
   "source": [
    "... and of course, lets take a look at what the most recent data points are:"
   ]
  },
  {
   "cell_type": "code",
   "execution_count": 5,
   "metadata": {},
   "outputs": [
    {
     "data": {
      "text/html": [
       "<div>\n",
       "<style scoped>\n",
       "    .dataframe tbody tr th:only-of-type {\n",
       "        vertical-align: middle;\n",
       "    }\n",
       "\n",
       "    .dataframe tbody tr th {\n",
       "        vertical-align: top;\n",
       "    }\n",
       "\n",
       "    .dataframe thead th {\n",
       "        text-align: right;\n",
       "    }\n",
       "</style>\n",
       "<table border=\"1\" class=\"dataframe\">\n",
       "  <thead>\n",
       "    <tr style=\"text-align: right;\">\n",
       "      <th></th>\n",
       "      <th>timestamp</th>\n",
       "      <th>longitudeE7</th>\n",
       "      <th>latitudeE7</th>\n",
       "      <th>accuracy</th>\n",
       "      <th>altitude</th>\n",
       "      <th>verticalAccuracy</th>\n",
       "      <th>velocity</th>\n",
       "    </tr>\n",
       "  </thead>\n",
       "  <tbody>\n",
       "    <tr>\n",
       "      <th>758943</th>\n",
       "      <td>2020-01-13  14:27:24.443000</td>\n",
       "      <td>-71.087485</td>\n",
       "      <td>42.338264</td>\n",
       "      <td>65</td>\n",
       "      <td>9</td>\n",
       "      <td>10</td>\n",
       "      <td>-1</td>\n",
       "    </tr>\n",
       "    <tr>\n",
       "      <th>758944</th>\n",
       "      <td>2020-01-13  14:40:35.139000</td>\n",
       "      <td>-71.087675</td>\n",
       "      <td>42.338887</td>\n",
       "      <td>10</td>\n",
       "      <td>0</td>\n",
       "      <td>16</td>\n",
       "      <td>2</td>\n",
       "    </tr>\n",
       "    <tr>\n",
       "      <th>758945</th>\n",
       "      <td>2020-01-13  16:31:44.447000</td>\n",
       "      <td>-71.087837</td>\n",
       "      <td>42.339914</td>\n",
       "      <td>10</td>\n",
       "      <td>8</td>\n",
       "      <td>16</td>\n",
       "      <td>0</td>\n",
       "    </tr>\n",
       "    <tr>\n",
       "      <th>758946</th>\n",
       "      <td>2020-01-13  16:34:08</td>\n",
       "      <td>-71.106052</td>\n",
       "      <td>42.347102</td>\n",
       "      <td>2500</td>\n",
       "      <td>-1</td>\n",
       "      <td>-1</td>\n",
       "      <td>-1</td>\n",
       "    </tr>\n",
       "    <tr>\n",
       "      <th>758947</th>\n",
       "      <td>2020-01-17  01:54:24.159000</td>\n",
       "      <td>-71.087512</td>\n",
       "      <td>42.343032</td>\n",
       "      <td>65</td>\n",
       "      <td>9</td>\n",
       "      <td>10</td>\n",
       "      <td>-1</td>\n",
       "    </tr>\n",
       "  </tbody>\n",
       "</table>\n",
       "</div>"
      ],
      "text/plain": [
       "                           timestamp  longitudeE7  latitudeE7  accuracy  \\\n",
       "758943  2020-01-13  14:27:24.443000    -71.087485   42.338264        65   \n",
       "758944  2020-01-13  14:40:35.139000    -71.087675   42.338887        10   \n",
       "758945  2020-01-13  16:31:44.447000    -71.087837   42.339914        10   \n",
       "758946         2020-01-13  16:34:08    -71.106052   42.347102      2500   \n",
       "758947  2020-01-17  01:54:24.159000    -71.087512   42.343032        65   \n",
       "\n",
       "        altitude  verticalAccuracy  velocity  \n",
       "758943         9                10        -1  \n",
       "758944         0                16         2  \n",
       "758945         8                16         0  \n",
       "758946        -1                -1        -1  \n",
       "758947         9                10        -1  "
      ]
     },
     "execution_count": 5,
     "metadata": {},
     "output_type": "execute_result"
    }
   ],
   "source": [
    "data.tail()"
   ]
  },
  {
   "cell_type": "markdown",
   "metadata": {},
   "source": [
    "#### Diving a little deeper"
   ]
  },
  {
   "cell_type": "code",
   "execution_count": 15,
   "metadata": {},
   "outputs": [],
   "source": [
    "street_map = gpd.read_file('./usa/cb_2018_us_ua10_500k.shp')"
   ]
  },
  {
   "cell_type": "code",
   "execution_count": 24,
   "metadata": {},
   "outputs": [
    {
     "data": {
      "text/plain": [
       "<matplotlib.axes._subplots.AxesSubplot at 0x1221298d0>"
      ]
     },
     "execution_count": 24,
     "metadata": {},
     "output_type": "execute_result"
    },
    {
     "data": {
      "image/png": "[encoded data removed]",
      "text/plain": [
       "<Figure size 2160x432 with 1 Axes>"
      ]
     },
     "metadata": {
      "needs_background": "light"
     },
     "output_type": "display_data"
    }
   ],
   "source": [
    "fig, ax = plt.subplots(figsize = (30, 6))\n",
    "street_map.plot(ax = ax)"
   ]
  },
  {
   "cell_type": "code",
   "execution_count": 9,
   "metadata": {},
   "outputs": [
    {
     "ename": "SyntaxError",
     "evalue": "invalid syntax (<ipython-input-9-d8603f9f9bc3>, line 1)",
     "output_type": "error",
     "traceback": [
      "\u001b[0;36m  File \u001b[0;32m\"<ipython-input-9-d8603f9f9bc3>\"\u001b[0;36m, line \u001b[0;32m1\u001b[0m\n\u001b[0;31m    which python\u001b[0m\n\u001b[0m               ^\u001b[0m\n\u001b[0;31mSyntaxError\u001b[0m\u001b[0;31m:\u001b[0m invalid syntax\n"
     ]
    }
   ],
   "source": []
  },
  {
   "cell_type": "code",
   "execution_count": 10,
   "metadata": {},
   "outputs": [
    {
     "name": "stdout",
     "output_type": "stream",
     "text": [
      "Collecting descartes\n",
      "  Using cached https://files.pythonhosted.org/packages/e5/b6/1ed2eb03989ae574584664985367ba70cd9cf8b32ee8cad0e8aaeac819f3/descartes-1.1.0-py3-none-any.whl\n",
      "Requirement already satisfied: matplotlib in /Users/brycedewitt/anaconda3/lib/python3.7/site-packages (from descartes) (3.1.0)\n",
      "Requirement already satisfied: cycler>=0.10 in /Users/brycedewitt/anaconda3/lib/python3.7/site-packages (from matplotlib->descartes) (0.10.0)\n",
      "Requirement already satisfied: kiwisolver>=1.0.1 in /Users/brycedewitt/anaconda3/lib/python3.7/site-packages (from matplotlib->descartes) (1.1.0)\n",
      "Requirement already satisfied: pyparsing!=2.0.4,!=2.1.2,!=2.1.6,>=2.0.1 in /Users/brycedewitt/anaconda3/lib/python3.7/site-packages (from matplotlib->descartes) (2.4.0)\n",
      "Requirement already satisfied: python-dateutil>=2.1 in /Users/brycedewitt/anaconda3/lib/python3.7/site-packages (from matplotlib->descartes) (2.8.0)\n",
      "Requirement already satisfied: numpy>=1.11 in /Users/brycedewitt/anaconda3/lib/python3.7/site-packages (from matplotlib->descartes) (1.16.4)\n",
      "Requirement already satisfied: six in /Users/brycedewitt/anaconda3/lib/python3.7/site-packages (from cycler>=0.10->matplotlib->descartes) (1.12.0)\n",
      "Requirement already satisfied: setuptools in /Users/brycedewitt/anaconda3/lib/python3.7/site-packages (from kiwisolver>=1.0.1->matplotlib->descartes) (41.0.1)\n",
      "Installing collected packages: descartes\n",
      "Successfully installed descartes-1.1.0\n"
     ]
    }
   ],
   "source": []
  },
  {
   "cell_type": "code",
   "execution_count": null,
   "metadata": {},
   "outputs": [],
   "source": []
  }
 ],
 "metadata": {
  "kernelspec": {
   "display_name": "Python 3",
   "language": "python",
   "name": "python3"
  },
  "language_info": {
   "codemirror_mode": {
    "name": "ipython",
    "version": 3
   },
   "file_extension": ".py",
   "mimetype": "text/x-python",
   "name": "python",
   "nbconvert_exporter": "python",
   "pygments_lexer": "ipython3",
   "version": "3.7.3"
  }
 },
 "nbformat": 4,
 "nbformat_minor": 2
}
